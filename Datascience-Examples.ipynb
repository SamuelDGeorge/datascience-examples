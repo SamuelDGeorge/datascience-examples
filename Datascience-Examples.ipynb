{
 "cells": [
  {
   "cell_type": "markdown",
   "id": "dd823521-2b9b-4248-a24d-95d24723b4f7",
   "metadata": {},
   "source": [
    "# Import Packages"
   ]
  },
  {
   "cell_type": "code",
   "execution_count": null,
   "id": "763cdac8-1532-472b-b342-dc3d910b91e4",
   "metadata": {},
   "outputs": [],
   "source": [
    "import json \n",
    "import pandas as pd\n",
    "\n",
    "# For Splitting Data\n",
    "from sklearn.model_selection import train_test_split\n",
    "\n",
    "# Models and Training\n",
    "from sklearn.ensemble import RandomForestClassifier\n",
    "from sklearn.svm import SVC\n",
    "from sklearn.model_selection import GridSearchCV\n",
    "\n",
    "# Score the Model \n",
    "from sklearn.metrics import ConfusionMatrixDisplay, f1_score, accuracy_score"
   ]
  },
  {
   "cell_type": "markdown",
   "id": "bae027c7-4baa-48bd-b701-6bceb1b38449",
   "metadata": {},
   "source": [
    "# Load Data"
   ]
  },
  {
   "cell_type": "code",
   "execution_count": null,
   "id": "f729c522-8db0-48ec-a3ab-52a29b25b5c8",
   "metadata": {},
   "outputs": [],
   "source": [
    "# Import JSON\n",
    "\n",
    "data_loc = \"./Data/sample.json\" \n",
    "my_data_raw = {}\n",
    "with open(data_loc, \"r+\") as f: \n",
    "    my_data_raw = json.load(f)"
   ]
  },
  {
   "cell_type": "code",
   "execution_count": null,
   "id": "3788201e-e0de-4a61-8131-ee8862da3054",
   "metadata": {},
   "outputs": [],
   "source": [
    "data_1 = pd.DataFrame.from_records(my_data_raw['Data'])\n",
    "data_1.head()"
   ]
  },
  {
   "cell_type": "code",
   "execution_count": null,
   "id": "c451afca-71c1-460b-8e93-987e4623d2d4",
   "metadata": {},
   "outputs": [],
   "source": [
    "data_2 = pd.DataFrame.from_dict(my_data_raw['Fields'])\n",
    "data_2.to_pickle(\"./Data/data.pki\")"
   ]
  },
  {
   "cell_type": "code",
   "execution_count": null,
   "id": "7ecf5918-6a11-40b1-9056-ff961d317afc",
   "metadata": {},
   "outputs": [],
   "source": [
    "re_import = pd.read_pickle(\"./Data/data.pki\")\n",
    "re_import.head()"
   ]
  },
  {
   "cell_type": "code",
   "execution_count": null,
   "id": "17176ec2-1fa5-40fc-a1a7-95e4c7f15d05",
   "metadata": {},
   "outputs": [],
   "source": [
    "unit = [{\n",
    "    \"Timestamp\": 123, \n",
    "    \"Tested_Cell\": True\n",
    "}]"
   ]
  },
  {
   "cell_type": "code",
   "execution_count": null,
   "id": "de110550-f2f4-4d2f-b2e9-84bd52443829",
   "metadata": {},
   "outputs": [],
   "source": [
    "pd.DataFrame.from_records(unit)"
   ]
  },
  {
   "cell_type": "code",
   "execution_count": null,
   "id": "e381ef80-17fa-4fd3-bbc8-23ff77635b2b",
   "metadata": {},
   "outputs": [],
   "source": [
    "data = pd.read_pickle(\"./Data/Curated_Count_Hit_Milestone_Q2_ML_Ready.pki\")\n",
    "data.head()"
   ]
  },
  {
   "cell_type": "markdown",
   "id": "47285892-1df7-4196-8cbe-4e46cb65d6af",
   "metadata": {},
   "source": [
    "# Machine Learning Examples"
   ]
  },
  {
   "cell_type": "markdown",
   "id": "0977ed98-8089-4203-abca-7f6b7aa0bf72",
   "metadata": {},
   "source": [
    "## Split off Test Data"
   ]
  },
  {
   "cell_type": "code",
   "execution_count": null,
   "id": "10b40e66-cb07-4f51-9878-a36aad8db259",
   "metadata": {},
   "outputs": [],
   "source": [
    "# Generate Train and Test Data \n",
    "\n",
    "# Seperate train and split\n",
    "X = data.drop(['label'], axis=1)\n",
    "y = data['label']\n",
    "X_train, X_test, y_train, y_test = train_test_split(X, y, test_size=0.33, random_state=43)\n",
    "X_train = X_train.drop('code', axis=1)\n",
    "X_test = X_test.drop('code', axis=1)\n",
    "X_data = X.drop(\"code\", axis=1)"
   ]
  },
  {
   "cell_type": "code",
   "execution_count": null,
   "id": "cfacc9e1-3b5d-4e36-a803-85d8eaff706c",
   "metadata": {},
   "outputs": [],
   "source": [
    "# Check Size \n",
    "X.shape\n",
    "y.shape\n",
    "X.shape[0] == y.shape[0]"
   ]
  },
  {
   "cell_type": "code",
   "execution_count": null,
   "id": "10613532-2461-42d6-a5e7-39063bb9c850",
   "metadata": {},
   "outputs": [],
   "source": [
    "print(X_test.shape)\n",
    "print(X_train.shape)\n",
    "print(y_test.shape)\n",
    "print(y_train.shape)"
   ]
  },
  {
   "cell_type": "markdown",
   "id": "19994f3e-8166-45ce-8218-9eb5a33f8e54",
   "metadata": {},
   "source": [
    "## Model Training - Random Forest Classifier"
   ]
  },
  {
   "cell_type": "code",
   "execution_count": null,
   "id": "08bfa932-c1bb-4794-9ef5-0aa3784dea5c",
   "metadata": {},
   "outputs": [],
   "source": [
    "# Find the Best Model\n",
    "param_grid = [\n",
    "    {\n",
    "        'n_estimators':[100,200,300]\n",
    "    }\n",
    "]\n",
    "\n",
    "forest_class = RandomForestClassifier(n_jobs=12)\n",
    "\n",
    "grid_search = GridSearchCV(forest_class, param_grid, cv=5,scoring='f1_macro', verbose=5)\n",
    "grid_search.fit(X_train, y_train)"
   ]
  },
  {
   "cell_type": "markdown",
   "id": "b032d935-699d-4a57-a8bd-35bf9ad89b9d",
   "metadata": {},
   "source": [
    "## Model Training - SVM"
   ]
  },
  {
   "cell_type": "code",
   "execution_count": null,
   "id": "1b01692e-0bb7-49f7-ab21-2ec91d25ca31",
   "metadata": {},
   "outputs": [],
   "source": [
    "# Find the Best Model\n",
    "param_grid = [\n",
    "    {\n",
    "        'kernel':['linear', 'poly', 'rbf', 'sigmoid']\n",
    "    }\n",
    "]\n",
    "\n",
    "forest_class = SVC()\n",
    "\n",
    "grid_search = GridSearchCV(forest_class, param_grid, cv=5,scoring='f1_macro', verbose=5)\n",
    "grid_search.fit(X_train, y_train)"
   ]
  },
  {
   "cell_type": "code",
   "execution_count": null,
   "id": "3b14fdc9-0b19-4ec9-98f2-e7173369233a",
   "metadata": {},
   "outputs": [],
   "source": [
    "# Retrieve that model\n",
    "forest_model = grid_search.best_estimator_"
   ]
  },
  {
   "cell_type": "markdown",
   "id": "3e3d3a8d-70f8-4a07-8a9e-eef56a7f42fd",
   "metadata": {},
   "source": [
    "## Test Prediction"
   ]
  },
  {
   "cell_type": "code",
   "execution_count": null,
   "id": "450958fc-5840-4a08-b197-3c168fa84062",
   "metadata": {},
   "outputs": [],
   "source": [
    "y_pred = forest_model.predict(X_test)"
   ]
  },
  {
   "cell_type": "code",
   "execution_count": null,
   "id": "e2ce28f9-4cba-4074-96bb-221019f81923",
   "metadata": {},
   "outputs": [],
   "source": [
    "print(y_pred.shape)"
   ]
  },
  {
   "cell_type": "code",
   "execution_count": null,
   "id": "b8833a22-173f-4d30-b309-dd3bc1a637d0",
   "metadata": {},
   "outputs": [],
   "source": [
    "f1_score(y_pred, y_test, average='macro')"
   ]
  },
  {
   "cell_type": "code",
   "execution_count": null,
   "id": "29dfc65c-3ed5-4f93-8a21-da3ef201fb0b",
   "metadata": {},
   "outputs": [],
   "source": [
    "accuracy_score(y_pred, y_test)"
   ]
  },
  {
   "cell_type": "code",
   "execution_count": null,
   "id": "7ec0637f-ce0c-47a2-8184-8e34fbac190a",
   "metadata": {},
   "outputs": [],
   "source": [
    "ConfusionMatrixDisplay.from_predictions(y_pred, y_test)"
   ]
  }
 ],
 "metadata": {
  "kernelspec": {
   "display_name": "Python 3 (ipykernel)",
   "language": "python",
   "name": "python3"
  },
  "language_info": {
   "codemirror_mode": {
    "name": "ipython",
    "version": 3
   },
   "file_extension": ".py",
   "mimetype": "text/x-python",
   "name": "python",
   "nbconvert_exporter": "python",
   "pygments_lexer": "ipython3",
   "version": "3.11.5"
  }
 },
 "nbformat": 4,
 "nbformat_minor": 5
}
